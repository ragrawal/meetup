{
 "cells": [
  {
   "cell_type": "markdown",
   "metadata": {},
   "source": [
    "#MLib"
   ]
  },
  {
   "cell_type": "markdown",
   "metadata": {},
   "source": [
    "##Download Data & Extract data"
   ]
  },
  {
   "cell_type": "code",
   "execution_count": null,
   "metadata": {
    "collapsed": false
   },
   "outputs": [],
   "source": [
    "%%bash\n",
    "cd data/meetup/movielens\n",
    "rm -rf *\n",
    "wget http://www.grouplens.org/system/files/ml-100k.zip\n",
    "\n",
    "unzip -j ml-100k.zip \"ml-100k/u.data\" \n",
    "unzip -j ml-100k.zip \"ml-100k/u.item\" \n",
    "unzip -j ml-100k.zip \"ml-100k/u.user\" \n",
    "unzip -j ml-100k.zip \"ml-100k/README\"\n",
    "\n",
    "ls -lh"
   ]
  },
  {
   "cell_type": "code",
   "execution_count": null,
   "metadata": {
    "collapsed": false
   },
   "outputs": [],
   "source": [
    "%%bash \n",
    "cat data/meetup/movielens/README \n",
    "head -n 5 data/meetup/movielens/u.item"
   ]
  },
  {
   "cell_type": "markdown",
   "metadata": {},
   "source": [
    "##Unpersonalized Recommendation Using KMeans\n",
    "Give the movie metadata one simply idea to generate movie recommendation is to cluster movies. One simple clustering technique is KMeans. You can find more information about KMeans over [here](https://en.wikipedia.org/wiki/K-means_clustering). Also there is a cool visualization to understand how KMeans work over [here](http://shabal.in/visuals/kmeans/2.html). Below we will do following steps:\n",
    "1. Load dataset: We will use [namedtuple](https://docs.python.org/2/library/collections.html#collections.namedtuple) to help track of different elements of our data\n",
    "2. Learn cluster of movies using KMeans algorithm. \n",
    "3. Assign names to each cluster. For this we will simply find top 3 tags related to each cluster and use them as cluster name\n",
    "4. Generate HTML Page. We will pull poster for each title using IMDB API\n"
   ]
  },
  {
   "cell_type": "markdown",
   "metadata": {},
   "source": [
    "###Load Dataset"
   ]
  },
  {
   "cell_type": "code",
   "execution_count": 190,
   "metadata": {
    "collapsed": false
   },
   "outputs": [
    {
     "name": "stdout",
     "output_type": "stream",
     "text": [
      "Movie(title=u'Toy Story (1995)', genres=[0, 0, 1, 1, 1, 0, 0, 0, 0, 0, 0, 0, 0, 0, 0, 0, 0, 0])\n",
      "Movie(title=u'GoldenEye (1995)', genres=[1, 1, 0, 0, 0, 0, 0, 0, 0, 0, 0, 0, 0, 0, 0, 1, 0, 0])\n",
      "Movie(title=u'Four Rooms (1995)', genres=[0, 0, 0, 0, 0, 0, 0, 0, 0, 0, 0, 0, 0, 0, 0, 1, 0, 0])\n",
      "Movie(title=u'Get Shorty (1995)', genres=[1, 0, 0, 0, 1, 0, 0, 1, 0, 0, 0, 0, 0, 0, 0, 0, 0, 0])\n",
      "Movie(title=u'Copycat (1995)', genres=[0, 0, 0, 0, 0, 1, 0, 1, 0, 0, 0, 0, 0, 0, 0, 1, 0, 0])\n"
     ]
    }
   ],
   "source": [
    "import collections\n",
    "Movie = collections.namedtuple('Movie', ['title', 'genres'], verbose=False)\n",
    "# Movie = collections.namedtuple('Movie', ['title', 'genres'], verbose=True)\n",
    "\n",
    "def parseMovieData(record, type=\"binary\"):\n",
    "    \"\"\"\n",
    "        Parse movie data\n",
    "    \"\"\"\n",
    "    tokens = record.split('|')\n",
    "    title = tokens[1].strip()\n",
    "    genres = [int(y) for y in tokens[6:]]\n",
    "    return Movie(title, genres)\n",
    "\n",
    "item = sc.textFile(\"data/meetup/movielens/u.item\").map(parseMovieData)\n",
    "for i in item.take(5):\n",
    "    print i"
   ]
  },
  {
   "cell_type": "markdown",
   "metadata": {},
   "source": [
    "### Train Model"
   ]
  },
  {
   "cell_type": "code",
   "execution_count": 192,
   "metadata": {
    "collapsed": false
   },
   "outputs": [
    {
     "name": "stdout",
     "output_type": "stream",
     "text": [
      "Within Set Sum of Squared Error for Cluster Size 10 = 190.455799945\n"
     ]
    }
   ],
   "source": [
    "from pyspark.mllib.clustering import KMeans, KMeansModel\n",
    "from math import sqrt\n",
    "\n",
    "trainData, testData = item.map(lambda x: x.genres).randomSplit([0.8, 0.2], 100)\n",
    "\n",
    "# Build the model (cluster the data)\n",
    "csize = 10\n",
    "clusters = KMeans.train(trainData, 10, maxIterations=10,\n",
    "        runs=10, initializationMode=\"random\", seed=100)\n",
    "\n",
    "# Evaluate clustering by computing Within Set Sum of Squared Errors\n",
    "def error(point):\n",
    "    center = clusters.centers[clusters.predict(point)]\n",
    "    return sqrt(sum([x**2 for x in (point - center)]))\n",
    "\n",
    "WSSSE = testData.map(lambda point: error(point)).reduce(lambda x, y: x + y)\n",
    "print(\"Within Set Sum of Squared Error for Cluster Size {0} = {1}\".format(csize, WSSSE))"
   ]
  },
  {
   "cell_type": "markdown",
   "metadata": {},
   "source": [
    "### Generate Movie Clusters"
   ]
  },
  {
   "cell_type": "code",
   "execution_count": 203,
   "metadata": {
    "collapsed": false
   },
   "outputs": [
    {
     "name": "stdout",
     "output_type": "stream",
     "text": [
      "Cluster ID: 0, Number of Titles: 230\n",
      "Cluster ID: 1, Number of Titles: 84\n",
      "Cluster ID: 2, Number of Titles: 136\n",
      "Cluster ID: 3, Number of Titles: 160\n",
      "Cluster ID: 4, Number of Titles: 50\n",
      "Cluster ID: 5, Number of Titles: 78\n",
      "Cluster ID: 6, Number of Titles: 96\n",
      "Cluster ID: 7, Number of Titles: 311\n",
      "Cluster ID: 8, Number of Titles: 80\n",
      "Cluster ID: 9, Number of Titles: 457\n"
     ]
    }
   ],
   "source": [
    "def center(point):\n",
    "    return clusters.predict(point)\n",
    "\n",
    "labeledData = item.map(lambda x: (center(x.genres), x)).cache()\n",
    "for cid, cnt in labeledData.countByKey().items():\n",
    "    print \"Cluster ID: {cid}, Number of Titles: {cnt}\".format(cid=cid, cnt=cnt)"
   ]
  },
  {
   "cell_type": "code",
   "execution_count": null,
   "metadata": {
    "collapsed": false
   },
   "outputs": [],
   "source": [
    "# Print Cluster\n",
    "for cluster in labeledData.groupByKey().collect():\n",
    "    print \"========== CLUSTER ID = {0} ==========\".format(cluster[0])\n",
    "    for idx, movie in enumerate(cluster[1]):\n",
    "        print \"{0}: {1}\".format(idx+1, movie.title.encode('utf8')) "
   ]
  },
  {
   "cell_type": "markdown",
   "metadata": {},
   "source": [
    "### Name Cluster\n"
   ]
  },
  {
   "cell_type": "code",
   "execution_count": 303,
   "metadata": {
    "collapsed": false
   },
   "outputs": [
    {
     "name": "stdout",
     "output_type": "stream",
     "text": [
      "========== CLUSTER ID = Thriller Horror Documentary ==========\n",
      "1: Four Rooms (1995)\n",
      "2: Seven (Se7en) (1995)\n",
      "3: Usual Suspects, The (1995)\n",
      "4: Crumb (1994)\n",
      "5: Hoop Dreams (1994)\n",
      "========== CLUSTER ID = Sci-Fi Action Thriller ==========\n",
      "1: Net, The (1995)\n",
      "2: Strange Days (1995)\n",
      "3: Star Wars (1977)\n",
      "4: Stargate (1994)\n",
      "5: Jurassic Park (1993)\n",
      "========== CLUSTER ID = Action Thriller Adventure ==========\n",
      "1: GoldenEye (1995)\n",
      "2: From Dusk Till Dawn (1996)\n",
      "3: Muppet Treasure Island (1996)\n",
      "4: Rumble in the Bronx (1995)\n",
      "5: Bad Boys (1995)\n",
      "========== CLUSTER ID = Drama Romance Thriller ==========\n",
      "1: Copycat (1995)\n",
      "2: Postino, Il (1994)\n",
      "3: Angels and Insects (1995)\n",
      "4: Taxi Driver (1976)\n",
      "5: Crimson Tide (1995)\n",
      "========== CLUSTER ID = Romance Thriller Action ==========\n",
      "1: True Romance (1993)\n",
      "2: Dirty Dancing (1987)\n",
      "3: Top Gun (1986)\n",
      "4: Psycho (1960)\n",
      "5: Bram Stoker's Dracula (1992)\n",
      "========== CLUSTER ID = Drama Comedy Crime ==========\n",
      "1: Get Shorty (1995)\n",
      "2: Babe (1995)\n",
      "3: Doom Generation, The (1995)\n",
      "4: Eat Drink Man Woman (1994)\n",
      "5: Ed Wood (1994)\n",
      "========== CLUSTER ID = Comedy Romance Drama ==========\n",
      "1: French Twist (Gazon maudit) (1995)\n",
      "2: I.Q. (1994)\n",
      "3: While You Were Sleeping (1995)\n",
      "4: Forrest Gump (1994)\n",
      "5: Four Weddings and a Funeral (1994)\n",
      "========== CLUSTER ID = Comedy Children's Action ==========\n",
      "1: Mighty Aphrodite (1995)\n",
      "2: Birdcage, The (1996)\n",
      "3: Brothers McMullen, The (1995)\n",
      "4: To Wong Foo, Thanks for Everything! Julie Newmar (1995)\n",
      "5: Billy Madison (1995)\n",
      "========== CLUSTER ID = Children's Adventure Animation ==========\n",
      "1: Toy Story (1995)\n",
      "2: Free Willy 2: The Adventure Home (1995)\n",
      "3: Lion King, The (1994)\n",
      "4: Free Willy (1993)\n",
      "5: Aladdin (1992)\n",
      "========== CLUSTER ID = Drama War Action ==========\n",
      "1: Shanghai Triad (Yao a yao yao dao waipo qiao) (1995)\n",
      "2: Twelve Monkeys (1995)\n",
      "3: Dead Man Walking (1995)\n",
      "4: Richard III (1995)\n",
      "5: Mr. Holland's Opus (1995)\n"
     ]
    }
   ],
   "source": [
    "import itertools\n",
    "\n",
    "GENRES = [x.strip() for x in \"Action | Adventure | Animation | Children's | Comedy | Crime | Documentary | Drama | Fantasy | Film-Noir | Horror | Musical | Mystery | Romance | Sci-Fi | Thriller | War | Western\".split('|')]\n",
    "IndexToGenres = sc.broadcast(GENRES)\n",
    "\n",
    "def getGenres(record):\n",
    "    label, movie = record\n",
    "    output = []\n",
    "    for idx, g in enumerate(movie.genres):\n",
    "        if g: \n",
    "            output.append((label, IndexToGenres.value[idx]))\n",
    "    return output\n",
    "\n",
    "counts = (labeledData\n",
    "           .flatMap(getGenres)\n",
    "           .map(lambda x: ((x[0], x[1]), 1))\n",
    "           .countByKey())\n",
    "\n",
    "clusters = [[key[0], key[1], value] for key, value in counts.items()]\n",
    "sortedClusters = sorted(clusters, key=lambda x: x[0])\n",
    "clusterNames = [None] * 10\n",
    "for grp in itertools.groupby(sortedClusters, key=lambda x: x[0]):\n",
    "    clusterNames[grp[0]] = sorted(list(grp[1]), key=lambda x: x[2], reverse=True)[0:3]\n",
    "\n",
    "for cluster in labeledData.groupByKey().collect():\n",
    "    name = \" \".join([x[1] for x in clusterNames[cluster[0]]])\n",
    "    print \"========== CLUSTER ID = {0} ==========\".format(name)\n",
    "    for idx, movie in enumerate(list(cluster[1])[0:5]):\n",
    "        print \"{0}: {1}\".format(idx+1, movie.title.encode('utf8'))     \n",
    "    "
   ]
  },
  {
   "cell_type": "code",
   "execution_count": 301,
   "metadata": {
    "collapsed": false
   },
   "outputs": [
    {
     "data": {
      "text/html": [
       "<html><head></head><body style='background-color:black; color:white;'><div style=\"clear:both;height:10px;\">&nbsp;</div><h1>CLUSTER ID = Thriller Horror Documentary</h1>\n",
       "        <div style=\"float:left; height:100px; width:100px; overflow:hidden;\">\n",
       "            <img src=\"http://ia.media-imdb.com/images/M/MV5BMTQwOTMzNjA0Nl5BMl5BanBnXkFtZTcwMjgzNTUyMQ@@._V1_SX300.jpg\" alt=\"Four Rooms \" height=\"75px\" width=\"auto\">\n",
       "        </div>\n",
       "    \n",
       "        <div style=\"float:left; height:100px; width:100px; overflow:hidden;\">\n",
       "            <img src=\"http://ia.media-imdb.com/images/M/MV5BMTU0NzY0MTY5OF5BMl5BanBnXkFtZTcwODY3MDEwMg@@._V1_SX300.jpg\" alt=\"Seven \" height=\"75px\" width=\"auto\">\n",
       "        </div>\n",
       "    \n",
       "        <div style=\"float:left; height:100px; width:100px; overflow:hidden;\">\n",
       "            <img src=\"None\" alt=\"Usual Suspects, The \" height=\"75px\" width=\"auto\">\n",
       "        </div>\n",
       "    \n",
       "        <div style=\"float:left; height:100px; width:100px; overflow:hidden;\">\n",
       "            <img src=\"http://ia.media-imdb.com/images/M/MV5BMTc1MzcxODgwMl5BMl5BanBnXkFtZTcwMjU1NzE1Mw@@._V1_SX300.jpg\" alt=\"Crumb \" height=\"75px\" width=\"auto\">\n",
       "        </div>\n",
       "    \n",
       "        <div style=\"float:left; height:100px; width:100px; overflow:hidden;\">\n",
       "            <img src=\"http://ia.media-imdb.com/images/M/MV5BMTk4ODE0MjQzOF5BMl5BanBnXkFtZTcwNDUzNjgyMQ@@._V1_SX300.jpg\" alt=\"Hoop Dreams \" height=\"75px\" width=\"auto\">\n",
       "        </div>\n",
       "    \n",
       "        <div style=\"float:left; height:100px; width:100px; overflow:hidden;\">\n",
       "            <img src=\"http://ia.media-imdb.com/images/M/MV5BNDA2MTYyNDE4NV5BMl5BanBnXkFtZTcwOTY5ODA3NA@@._V1_SX300.jpg\" alt=\"Brother Minister: The Assassination of Malcolm X \" height=\"75px\" width=\"auto\">\n",
       "        </div>\n",
       "    \n",
       "        <div style=\"float:left; height:100px; width:100px; overflow:hidden;\">\n",
       "            <img src=\"http://ia.media-imdb.com/images/M/MV5BMTgwMjc4MDk5M15BMl5BanBnXkFtZTcwMjYxNjk0Mg@@._V1_SX300.jpg\" alt=\"Wallace & Gromit: The Best of Aardman Animation \" height=\"75px\" width=\"auto\">\n",
       "        </div>\n",
       "    \n",
       "        <div style=\"float:left; height:100px; width:100px; overflow:hidden;\">\n",
       "            <img src=\"None\" alt=\"Haunted World of Edward D. Wood Jr., The \" height=\"75px\" width=\"auto\">\n",
       "        </div>\n",
       "    \n",
       "        <div style=\"float:left; height:100px; width:100px; overflow:hidden;\">\n",
       "            <img src=\"http://ia.media-imdb.com/images/M/MV5BMTIzMTUxMjE1Nl5BMl5BanBnXkFtZTcwOTcxNzkxMQ@@._V1_SX300.jpg\" alt=\"Maya Lin: A Strong Clear Vision \" height=\"75px\" width=\"auto\">\n",
       "        </div>\n",
       "    \n",
       "        <div style=\"float:left; height:100px; width:100px; overflow:hidden;\">\n",
       "            <img src=\"http://ia.media-imdb.com/images/M/MV5BMTczMjIyODA5OV5BMl5BanBnXkFtZTcwNTAzMzMzMQ@@._V1_SX300.jpg\" alt=\"Kansas City \" height=\"75px\" width=\"auto\">\n",
       "        </div>\n",
       "    <div style=\"clear:both;height:10px;\">&nbsp;</div><h1>CLUSTER ID = Sci-Fi Action Thriller</h1>\n",
       "        <div style=\"float:left; height:100px; width:100px; overflow:hidden;\">\n",
       "            <img src=\"N/A\" alt=\"Net, The \" height=\"75px\" width=\"auto\">\n",
       "        </div>\n",
       "    \n",
       "        <div style=\"float:left; height:100px; width:100px; overflow:hidden;\">\n",
       "            <img src=\"http://ia.media-imdb.com/images/M/MV5BMTQxMzk0NTQ4Ml5BMl5BanBnXkFtZTgwNjY0MDQ1MDE@._V1_SX300.jpg\" alt=\"Strange Days \" height=\"75px\" width=\"auto\">\n",
       "        </div>\n",
       "    \n",
       "        <div style=\"float:left; height:100px; width:100px; overflow:hidden;\">\n",
       "            <img src=\"N/A\" alt=\"Star Wars \" height=\"75px\" width=\"auto\">\n",
       "        </div>\n",
       "    \n",
       "        <div style=\"float:left; height:100px; width:100px; overflow:hidden;\">\n",
       "            <img src=\"http://ia.media-imdb.com/images/M/MV5BMTk4ODQ1MTk5M15BMl5BanBnXkFtZTgwMjA2Mzk5MDE@._V1_SX300.jpg\" alt=\"Stargate \" height=\"75px\" width=\"auto\">\n",
       "        </div>\n",
       "    \n",
       "        <div style=\"float:left; height:100px; width:100px; overflow:hidden;\">\n",
       "            <img src=\"http://ia.media-imdb.com/images/M/MV5BMjM2MDgxMDg0Nl5BMl5BanBnXkFtZTgwNTM2OTM5NDE@._V1_SX300.jpg\" alt=\"Jurassic Park \" height=\"75px\" width=\"auto\">\n",
       "        </div>\n",
       "    \n",
       "        <div style=\"float:left; height:100px; width:100px; overflow:hidden;\">\n",
       "            <img src=\"None\" alt=\"Robert A. Heinlein's The Puppet Masters \" height=\"75px\" width=\"auto\">\n",
       "        </div>\n",
       "    \n",
       "        <div style=\"float:left; height:100px; width:100px; overflow:hidden;\">\n",
       "            <img src=\"http://ia.media-imdb.com/images/M/MV5BMTA4MDQxNTk2NDheQTJeQWpwZ15BbWU3MDE2NjIyODk@._V1_SX300.jpg\" alt=\"Blade Runner \" height=\"75px\" width=\"auto\">\n",
       "        </div>\n",
       "    \n",
       "        <div style=\"float:left; height:100px; width:100px; overflow:hidden;\">\n",
       "            <img src=\"http://ia.media-imdb.com/images/M/MV5BMTg5NzUwMDU5NF5BMl5BanBnXkFtZTcwMjk2MDA4Mg@@._V1_SX300.jpg\" alt=\"Terminator 2: Judgment Day \" height=\"75px\" width=\"auto\">\n",
       "        </div>\n",
       "    \n",
       "        <div style=\"float:left; height:100px; width:100px; overflow:hidden;\">\n",
       "            <img src=\"http://ia.media-imdb.com/images/M/MV5BMzYzNTU1MjEzNF5BMl5BanBnXkFtZTYwMTQ0OTU5._V1_SX300.jpg\" alt=\"Heavy Metal \" height=\"75px\" width=\"auto\">\n",
       "        </div>\n",
       "    \n",
       "        <div style=\"float:left; height:100px; width:100px; overflow:hidden;\">\n",
       "            <img src=\"http://ia.media-imdb.com/images/M/MV5BMTMwODY3NzQzNF5BMl5BanBnXkFtZTcwNzUxNjc0MQ@@._V1_SX300.jpg\" alt=\"Independence Day \" height=\"75px\" width=\"auto\">\n",
       "        </div>\n",
       "    <div style=\"clear:both;height:10px;\">&nbsp;</div><h1>CLUSTER ID = Action Thriller Adventure</h1>\n",
       "        <div style=\"float:left; height:100px; width:100px; overflow:hidden;\">\n",
       "            <img src=\"http://ia.media-imdb.com/images/M/MV5BMzk2OTg4MTk1NF5BMl5BanBnXkFtZTcwNjExNTgzNA@@._V1_SX300.jpg\" alt=\"GoldenEye \" height=\"75px\" width=\"auto\">\n",
       "        </div>\n",
       "    \n",
       "        <div style=\"float:left; height:100px; width:100px; overflow:hidden;\">\n",
       "            <img src=\"http://ia.media-imdb.com/images/M/MV5BMTUzNjI5NTUwOV5BMl5BanBnXkFtZTcwMDAyMDQyMQ@@._V1_SX300.jpg\" alt=\"From Dusk Till Dawn \" height=\"75px\" width=\"auto\">\n",
       "        </div>\n",
       "    \n",
       "        <div style=\"float:left; height:100px; width:100px; overflow:hidden;\">\n",
       "            <img src=\"http://ia.media-imdb.com/images/M/MV5BMTY0NDU1MDYxMl5BMl5BanBnXkFtZTcwNjgyMTEzMQ@@._V1_SX300.jpg\" alt=\"Muppet Treasure Island \" height=\"75px\" width=\"auto\">\n",
       "        </div>\n",
       "    \n",
       "        <div style=\"float:left; height:100px; width:100px; overflow:hidden;\">\n",
       "            <img src=\"http://ia.media-imdb.com/images/M/MV5BMjEwNzYxMTIyNl5BMl5BanBnXkFtZTYwOTA5MTE5._V1_SX300.jpg\" alt=\"Rumble in the Bronx \" height=\"75px\" width=\"auto\">\n",
       "        </div>\n",
       "    \n",
       "        <div style=\"float:left; height:100px; width:100px; overflow:hidden;\">\n",
       "            <img src=\"http://ia.media-imdb.com/images/M/MV5BMTY4NDk1NTU5NF5BMl5BanBnXkFtZTcwMjE2NDU2MQ@@._V1_SX300.jpg\" alt=\"Bad Boys \" height=\"75px\" width=\"auto\">\n",
       "        </div>\n",
       "    \n",
       "        <div style=\"float:left; height:100px; width:100px; overflow:hidden;\">\n",
       "            <img src=\"http://ia.media-imdb.com/images/M/MV5BMTM2Njg2NjU5NF5BMl5BanBnXkFtZTYwODI5MDc4._V1_SX300.jpg\" alt=\"Apollo 13 \" height=\"75px\" width=\"auto\">\n",
       "        </div>\n",
       "    \n",
       "        <div style=\"float:left; height:100px; width:100px; overflow:hidden;\">\n",
       "            <img src=\"http://ia.media-imdb.com/images/M/MV5BMjAwOTEyNjg0M15BMl5BanBnXkFtZTYwODQyMTI5._V1_SX300.jpg\" alt=\"Batman Forever \" height=\"75px\" width=\"auto\">\n",
       "        </div>\n",
       "    \n",
       "        <div style=\"float:left; height:100px; width:100px; overflow:hidden;\">\n",
       "            <img src=\"http://ia.media-imdb.com/images/M/MV5BMjM0MDQ5NTc3N15BMl5BanBnXkFtZTgwMzQxNzQxMTE@._V1_SX300.jpg\" alt=\"Desperado \" height=\"75px\" width=\"auto\">\n",
       "        </div>\n",
       "    \n",
       "        <div style=\"float:left; height:100px; width:100px; overflow:hidden;\">\n",
       "            <img src=\"http://ia.media-imdb.com/images/M/MV5BMTI2NTU2Nzc0MV5BMl5BanBnXkFtZTcwMzY1OTM2MQ@@._V1_SX300.jpg\" alt=\"Natural Born Killers \" height=\"75px\" width=\"auto\">\n",
       "        </div>\n",
       "    \n",
       "        <div style=\"float:left; height:100px; width:100px; overflow:hidden;\">\n",
       "            <img src=\"http://ia.media-imdb.com/images/M/MV5BOTMwNTMwMTk4NV5BMl5BanBnXkFtZTcwMTI0ODYxMQ@@._V1_SX300.jpg\" alt=\"Outbreak \" height=\"75px\" width=\"auto\">\n",
       "        </div>\n",
       "    <div style=\"clear:both;height:10px;\">&nbsp;</div><h1>CLUSTER ID = Drama Romance Thriller</h1>\n",
       "        <div style=\"float:left; height:100px; width:100px; overflow:hidden;\">\n",
       "            <img src=\"http://ia.media-imdb.com/images/M/MV5BMTMwNzcwMTAxOV5BMl5BanBnXkFtZTYwMzYyNzQ5._V1_SX300.jpg\" alt=\"Copycat \" height=\"75px\" width=\"auto\">\n",
       "        </div>\n",
       "    \n",
       "        <div style=\"float:left; height:100px; width:100px; overflow:hidden;\">\n",
       "            <img src=\"None\" alt=\"Postino, Il \" height=\"75px\" width=\"auto\">\n",
       "        </div>\n",
       "    \n",
       "        <div style=\"float:left; height:100px; width:100px; overflow:hidden;\">\n",
       "            <img src=\"http://ia.media-imdb.com/images/M/MV5BOTgwMTExNjk2M15BMl5BanBnXkFtZTcwNzQxNTEzMQ@@._V1_SX300.jpg\" alt=\"Angels and Insects \" height=\"75px\" width=\"auto\">\n",
       "        </div>\n",
       "    \n",
       "        <div style=\"float:left; height:100px; width:100px; overflow:hidden;\">\n",
       "            <img src=\"http://ia.media-imdb.com/images/M/MV5BMTQ1Nzg3MDQwN15BMl5BanBnXkFtZTcwNDE2NDU2MQ@@._V1_SX300.jpg\" alt=\"Taxi Driver \" height=\"75px\" width=\"auto\">\n",
       "        </div>\n",
       "    \n",
       "        <div style=\"float:left; height:100px; width:100px; overflow:hidden;\">\n",
       "            <img src=\"http://ia.media-imdb.com/images/M/MV5BMjIyOTgzNTE5OF5BMl5BanBnXkFtZTgwODA2NDkyMTE@._V1_SX300.jpg\" alt=\"Crimson Tide \" height=\"75px\" width=\"auto\">\n",
       "        </div>\n",
       "    \n",
       "        <div style=\"float:left; height:100px; width:100px; overflow:hidden;\">\n",
       "            <img src=\"http://ia.media-imdb.com/images/M/MV5BNDE0NTQ1NjQzM15BMl5BanBnXkFtZTYwNDI4MDU5._V1_SX300.jpg\" alt=\"Mad Love \" height=\"75px\" width=\"auto\">\n",
       "        </div>\n",
       "    \n",
       "        <div style=\"float:left; height:100px; width:100px; overflow:hidden;\">\n",
       "            <img src=\"http://ia.media-imdb.com/images/M/MV5BMTM2MTU3NTY1OF5BMl5BanBnXkFtZTcwMjQ3OTYxMQ@@._V1_SX300.jpg\" alt=\"Disclosure \" height=\"75px\" width=\"auto\">\n",
       "        </div>\n",
       "    \n",
       "        <div style=\"float:left; height:100px; width:100px; overflow:hidden;\">\n",
       "            <img src=\"http://ia.media-imdb.com/images/M/MV5BMjE4NDIwNzgwN15BMl5BanBnXkFtZTcwNzk3MDAzMQ@@._V1_SX300.jpg\" alt=\"Dolores Claiborne \" height=\"75px\" width=\"auto\">\n",
       "        </div>\n",
       "    \n",
       "        <div style=\"float:left; height:100px; width:100px; overflow:hidden;\">\n",
       "            <img src=\"http://ia.media-imdb.com/images/M/MV5BMTYwMjYxNTAyN15BMl5BanBnXkFtZTgwMTc3MjkyMTE@._V1_SX300.jpg\" alt=\"Legends of the Fall \" height=\"75px\" width=\"auto\">\n",
       "        </div>\n",
       "    \n",
       "        <div style=\"float:left; height:100px; width:100px; overflow:hidden;\">\n",
       "            <img src=\"None\" alt=\"Professional, The \" height=\"75px\" width=\"auto\">\n",
       "        </div>\n",
       "    <div style=\"clear:both;height:10px;\">&nbsp;</div><h1>CLUSTER ID = Romance Thriller Action</h1>\n",
       "        <div style=\"float:left; height:100px; width:100px; overflow:hidden;\">\n",
       "            <img src=\"http://ia.media-imdb.com/images/M/MV5BMTMxMTM3MDIwM15BMl5BanBnXkFtZTcwMDYyOTUyMg@@._V1_SX300.jpg\" alt=\"True Romance \" height=\"75px\" width=\"auto\">\n",
       "        </div>\n",
       "    \n",
       "        <div style=\"float:left; height:100px; width:100px; overflow:hidden;\">\n",
       "            <img src=\"http://ia.media-imdb.com/images/M/MV5BMTc3MDY3ODQ2OV5BMl5BanBnXkFtZTgwOTQ2NTYxMTE@._V1_SX300.jpg\" alt=\"Dirty Dancing \" height=\"75px\" width=\"auto\">\n",
       "        </div>\n",
       "    \n",
       "        <div style=\"float:left; height:100px; width:100px; overflow:hidden;\">\n",
       "            <img src=\"http://ia.media-imdb.com/images/M/MV5BMTY3ODg4OTU3Nl5BMl5BanBnXkFtZTYwMjI1Nzg4._V1_SX300.jpg\" alt=\"Top Gun \" height=\"75px\" width=\"auto\">\n",
       "        </div>\n",
       "    \n",
       "        <div style=\"float:left; height:100px; width:100px; overflow:hidden;\">\n",
       "            <img src=\"http://ia.media-imdb.com/images/M/MV5BNjI3OTAxNjI5OV5BMl5BanBnXkFtZTgwMzk4ODE4MzE@._V1_SX300.jpg\" alt=\"Psycho \" height=\"75px\" width=\"auto\">\n",
       "        </div>\n",
       "    \n",
       "        <div style=\"float:left; height:100px; width:100px; overflow:hidden;\">\n",
       "            <img src=\"http://ia.media-imdb.com/images/M/MV5BMTU0ODM2NDU1NV5BMl5BanBnXkFtZTcwNjM1MTAyMQ@@._V1_SX300.jpg\" alt=\"Bram Stoker's Dracula \" height=\"75px\" width=\"auto\">\n",
       "        </div>\n",
       "    \n",
       "        <div style=\"float:left; height:100px; width:100px; overflow:hidden;\">\n",
       "            <img src=\"None\" alt=\"Last of the Mohicans, The \" height=\"75px\" width=\"auto\">\n",
       "        </div>\n",
       "    \n",
       "        <div style=\"float:left; height:100px; width:100px; overflow:hidden;\">\n",
       "            <img src=\"http://ia.media-imdb.com/images/M/MV5BMjA5MTEzMzE4MF5BMl5BanBnXkFtZTcwMDAzMTUyMg@@._V1_SX300.jpg\" alt=\"My Fair Lady \" height=\"75px\" width=\"auto\">\n",
       "        </div>\n",
       "    \n",
       "        <div style=\"float:left; height:100px; width:100px; overflow:hidden;\">\n",
       "            <img src=\"http://ia.media-imdb.com/images/M/MV5BMTY3NTAwMjk5OV5BMl5BanBnXkFtZTgwNDU5OTQzMTE@._V1_SX300.jpg\" alt=\"Notorious \" height=\"75px\" width=\"auto\">\n",
       "        </div>\n",
       "    \n",
       "        <div style=\"float:left; height:100px; width:100px; overflow:hidden;\">\n",
       "            <img src=\"None\" alt=\"African Queen, The \" height=\"75px\" width=\"auto\">\n",
       "        </div>\n",
       "    \n",
       "        <div style=\"float:left; height:100px; width:100px; overflow:hidden;\">\n",
       "            <img src=\"http://ia.media-imdb.com/images/M/MV5BMTE5OTY3NzM2NF5BMl5BanBnXkFtZTYwOTAxNzg4._V1_SX300.jpg\" alt=\"Kama Sutra: A Tale of Love \" height=\"75px\" width=\"auto\">\n",
       "        </div>\n",
       "    <div style=\"clear:both;height:10px;\">&nbsp;</div><h1>CLUSTER ID = Drama Comedy Crime</h1>\n",
       "        <div style=\"float:left; height:100px; width:100px; overflow:hidden;\">\n",
       "            <img src=\"http://ia.media-imdb.com/images/M/MV5BMjAwODYzNDY4Ml5BMl5BanBnXkFtZTcwODkwNTgzNA@@._V1_SX300.jpg\" alt=\"Get Shorty \" height=\"75px\" width=\"auto\">\n",
       "        </div>\n",
       "    \n",
       "        <div style=\"float:left; height:100px; width:100px; overflow:hidden;\">\n",
       "            <img src=\"http://ia.media-imdb.com/images/M/MV5BMTIwNzY2OTIzN15BMl5BanBnXkFtZTcwNjcxODAzMQ@@._V1_SX300.jpg\" alt=\"Babe \" height=\"75px\" width=\"auto\">\n",
       "        </div>\n",
       "    \n",
       "        <div style=\"float:left; height:100px; width:100px; overflow:hidden;\">\n",
       "            <img src=\"None\" alt=\"Doom Generation, The \" height=\"75px\" width=\"auto\">\n",
       "        </div>\n",
       "    \n",
       "        <div style=\"float:left; height:100px; width:100px; overflow:hidden;\">\n",
       "            <img src=\"http://ia.media-imdb.com/images/M/MV5BMTg5NTQxMjc5MV5BMl5BanBnXkFtZTcwMjYxODcxMQ@@._V1_SX300.jpg\" alt=\"Eat Drink Man Woman \" height=\"75px\" width=\"auto\">\n",
       "        </div>\n",
       "    \n",
       "        <div style=\"float:left; height:100px; width:100px; overflow:hidden;\">\n",
       "            <img src=\"http://ia.media-imdb.com/images/M/MV5BMjAzODM1MDMxN15BMl5BanBnXkFtZTgwOTgwNTc2MDE@._V1_SX300.jpg\" alt=\"Ed Wood \" height=\"75px\" width=\"auto\">\n",
       "        </div>\n",
       "    \n",
       "        <div style=\"float:left; height:100px; width:100px; overflow:hidden;\">\n",
       "            <img src=\"http://ia.media-imdb.com/images/M/MV5BMTQ5NjY1MjE5MV5BMl5BanBnXkFtZTgwODU2NTYxMTE@._V1_SX300.jpg\" alt=\"What's Eating Gilbert Grape \" height=\"75px\" width=\"auto\">\n",
       "        </div>\n",
       "    \n",
       "        <div style=\"float:left; height:100px; width:100px; overflow:hidden;\">\n",
       "            <img src=\"http://ia.media-imdb.com/images/M/MV5BMTgyMzI5NjA1OF5BMl5BanBnXkFtZTYwMjQyMjg5._V1_SX300.jpg\" alt=\"Faster Pussycat! Kill! Kill! \" height=\"75px\" width=\"auto\">\n",
       "        </div>\n",
       "    \n",
       "        <div style=\"float:left; height:100px; width:100px; overflow:hidden;\">\n",
       "            <img src=\"http://ia.media-imdb.com/images/M/MV5BMTcxMzk5NzY4OV5BMl5BanBnXkFtZTcwNzcxNTgxMQ@@._V1_SX300.jpg\" alt=\"Welcome to the Dollhouse \" height=\"75px\" width=\"auto\">\n",
       "        </div>\n",
       "    \n",
       "        <div style=\"float:left; height:100px; width:100px; overflow:hidden;\">\n",
       "            <img src=\"http://ia.media-imdb.com/images/M/MV5BMTcxMDQ1MjUxOF5BMl5BanBnXkFtZTYwMzAwNTA5._V1_SX300.jpg\" alt=\"Swingers \" height=\"75px\" width=\"auto\">\n",
       "        </div>\n",
       "    \n",
       "        <div style=\"float:left; height:100px; width:100px; overflow:hidden;\">\n",
       "            <img src=\"http://ia.media-imdb.com/images/M/MV5BMTQ2MTIzMzg5Nl5BMl5BanBnXkFtZTgwOTc5NDI1MDE@._V1_SX300.jpg\" alt=\"This Is Spinal Tap \" height=\"75px\" width=\"auto\">\n",
       "        </div>\n",
       "    <div style=\"clear:both;height:10px;\">&nbsp;</div><h1>CLUSTER ID = Comedy Romance Drama</h1>\n",
       "        <div style=\"float:left; height:100px; width:100px; overflow:hidden;\">\n",
       "            <img src=\"http://ia.media-imdb.com/images/M/MV5BMTg3NjczMTU1OF5BMl5BanBnXkFtZTcwOTAzNTQyMQ@@._V1_SX300.jpg\" alt=\"French Twist \" height=\"75px\" width=\"auto\">\n",
       "        </div>\n",
       "    \n",
       "        <div style=\"float:left; height:100px; width:100px; overflow:hidden;\">\n",
       "            <img src=\"http://ia.media-imdb.com/images/M/MV5BMTIwMTc2ODg3NV5BMl5BanBnXkFtZTcwNjEyNTUxMQ@@._V1_SX300.jpg\" alt=\"I.Q. \" height=\"75px\" width=\"auto\">\n",
       "        </div>\n",
       "    \n",
       "        <div style=\"float:left; height:100px; width:100px; overflow:hidden;\">\n",
       "            <img src=\"http://ia.media-imdb.com/images/M/MV5BMTU5NjU4NDUzMl5BMl5BanBnXkFtZTgwMjc4NDgzMTE@._V1_SX300.jpg\" alt=\"While You Were Sleeping \" height=\"75px\" width=\"auto\">\n",
       "        </div>\n",
       "    \n",
       "        <div style=\"float:left; height:100px; width:100px; overflow:hidden;\">\n",
       "            <img src=\"http://ia.media-imdb.com/images/M/MV5BMTQwMTA5MzI1MF5BMl5BanBnXkFtZTcwMzY5Mzg3OA@@._V1_SX300.jpg\" alt=\"Forrest Gump \" height=\"75px\" width=\"auto\">\n",
       "        </div>\n",
       "    \n",
       "        <div style=\"float:left; height:100px; width:100px; overflow:hidden;\">\n",
       "            <img src=\"http://ia.media-imdb.com/images/M/MV5BMTMyNzg2NzgxNV5BMl5BanBnXkFtZTcwMTcxNzczNA@@._V1_SX300.jpg\" alt=\"Four Weddings and a Funeral \" height=\"75px\" width=\"auto\">\n",
       "        </div>\n",
       "    \n",
       "        <div style=\"float:left; height:100px; width:100px; overflow:hidden;\">\n",
       "            <img src=\"None\" alt=\"Hudsucker Proxy, The \" height=\"75px\" width=\"auto\">\n",
       "        </div>\n",
       "    \n",
       "        <div style=\"float:left; height:100px; width:100px; overflow:hidden;\">\n",
       "            <img src=\"http://ia.media-imdb.com/images/M/MV5BMzkwODM1OTY1Nl5BMl5BanBnXkFtZTcwOTcxMDQ1NA@@._V1_SX300.jpg\" alt=\"Much Ado About Nothing \" height=\"75px\" width=\"auto\">\n",
       "        </div>\n",
       "    \n",
       "        <div style=\"float:left; height:100px; width:100px; overflow:hidden;\">\n",
       "            <img src=\"http://ia.media-imdb.com/images/M/MV5BNzc0MDkwNjI0NF5BMl5BanBnXkFtZTgwMTY1MjEyMDE@._V1_SX300.jpg\" alt=\"Sleepless in Seattle \" height=\"75px\" width=\"auto\">\n",
       "        </div>\n",
       "    \n",
       "        <div style=\"float:left; height:100px; width:100px; overflow:hidden;\">\n",
       "            <img src=\"http://ia.media-imdb.com/images/M/MV5BMTY3OTY0NzYzMV5BMl5BanBnXkFtZTcwMDc2MjYxMQ@@._V1_SX300.jpg\" alt=\"So I Married an Axe Murderer \" height=\"75px\" width=\"auto\">\n",
       "        </div>\n",
       "    \n",
       "        <div style=\"float:left; height:100px; width:100px; overflow:hidden;\">\n",
       "            <img src=\"http://ia.media-imdb.com/images/M/MV5BMTYxNjIyMjkxNl5BMl5BanBnXkFtZTYwMDAzOTg4._V1_SX300.jpg\" alt=\"Truth About Cats & Dogs, The \" height=\"75px\" width=\"auto\">\n",
       "        </div>\n",
       "    <div style=\"clear:both;height:10px;\">&nbsp;</div><h1>CLUSTER ID = Comedy Children's Action</h1>\n",
       "        <div style=\"float:left; height:100px; width:100px; overflow:hidden;\">\n",
       "            <img src=\"http://ia.media-imdb.com/images/M/MV5BMTUzMzE3Nzg5Ml5BMl5BanBnXkFtZTcwNTIxNDEyMQ@@._V1_SX300.jpg\" alt=\"Mighty Aphrodite \" height=\"75px\" width=\"auto\">\n",
       "        </div>\n",
       "    \n",
       "        <div style=\"float:left; height:100px; width:100px; overflow:hidden;\">\n",
       "            <img src=\"None\" alt=\"Birdcage, The \" height=\"75px\" width=\"auto\">\n",
       "        </div>\n",
       "    \n",
       "        <div style=\"float:left; height:100px; width:100px; overflow:hidden;\">\n",
       "            <img src=\"None\" alt=\"Brothers McMullen, The \" height=\"75px\" width=\"auto\">\n",
       "        </div>\n",
       "    \n",
       "        <div style=\"float:left; height:100px; width:100px; overflow:hidden;\">\n",
       "            <img src=\"None\" alt=\"To Wong Foo, Thanks for Everything! Julie Newmar \" height=\"75px\" width=\"auto\">\n",
       "        </div>\n",
       "    \n",
       "        <div style=\"float:left; height:100px; width:100px; overflow:hidden;\">\n",
       "            <img src=\"http://ia.media-imdb.com/images/M/MV5BMTgwNDg1NjUxN15BMl5BanBnXkFtZTgwOTg0NzQxMTE@._V1_SX300.jpg\" alt=\"Billy Madison \" height=\"75px\" width=\"auto\">\n",
       "        </div>\n",
       "    \n",
       "        <div style=\"float:left; height:100px; width:100px; overflow:hidden;\">\n",
       "            <img src=\"http://ia.media-imdb.com/images/M/MV5BMTg3MTkyMzA0NF5BMl5BanBnXkFtZTgwNTg0NDI1MDE@._V1_SX300.jpg\" alt=\"Clerks \" height=\"75px\" width=\"auto\">\n",
       "        </div>\n",
       "    \n",
       "        <div style=\"float:left; height:100px; width:100px; overflow:hidden;\">\n",
       "            <img src=\"None\" alt=\"Santa Clause, The \" height=\"75px\" width=\"auto\">\n",
       "        </div>\n",
       "    \n",
       "        <div style=\"float:left; height:100px; width:100px; overflow:hidden;\">\n",
       "            <img src=\"http://ia.media-imdb.com/images/M/MV5BMjAzNTI0ODUxOF5BMl5BanBnXkFtZTgwNTQxNzQxMTE@._V1_SX300.jpg\" alt=\"Ace Ventura: Pet Detective \" height=\"75px\" width=\"auto\">\n",
       "        </div>\n",
       "    \n",
       "        <div style=\"float:left; height:100px; width:100px; overflow:hidden;\">\n",
       "            <img src=\"http://ia.media-imdb.com/images/M/MV5BMjE5MDE3MTQxOV5BMl5BanBnXkFtZTcwNDY0NzA0MQ@@._V1_SX300.jpg\" alt=\"Mask, The \" height=\"75px\" width=\"auto\">\n",
       "        </div>\n",
       "    \n",
       "        <div style=\"float:left; height:100px; width:100px; overflow:hidden;\">\n",
       "            <img src=\"http://ia.media-imdb.com/images/M/MV5BMTE5OTQzMzU3Nl5BMl5BanBnXkFtZTcwNTA3MTMyMQ@@._V1_SX300.jpg\" alt=\"Maverick \" height=\"75px\" width=\"auto\">\n",
       "        </div>\n",
       "    <div style=\"clear:both;height:10px;\">&nbsp;</div><h1>CLUSTER ID = Children's Adventure Animation</h1>\n",
       "        <div style=\"float:left; height:100px; width:100px; overflow:hidden;\">\n",
       "            <img src=\"http://ia.media-imdb.com/images/M/MV5BMTgwMjI4MzU5N15BMl5BanBnXkFtZTcwMTMyNTk3OA@@._V1_SX300.jpg\" alt=\"Toy Story \" height=\"75px\" width=\"auto\">\n",
       "        </div>\n",
       "    \n",
       "        <div style=\"float:left; height:100px; width:100px; overflow:hidden;\">\n",
       "            <img src=\"http://ia.media-imdb.com/images/M/MV5BMjgyNTc4Mzk4OV5BMl5BanBnXkFtZTcwMDgwMDQyMQ@@._V1_SX300.jpg\" alt=\"Free Willy 2: The Adventure Home \" height=\"75px\" width=\"auto\">\n",
       "        </div>\n",
       "    \n",
       "        <div style=\"float:left; height:100px; width:100px; overflow:hidden;\">\n",
       "            <img src=\"None\" alt=\"Lion King, The \" height=\"75px\" width=\"auto\">\n",
       "        </div>\n",
       "    \n",
       "        <div style=\"float:left; height:100px; width:100px; overflow:hidden;\">\n",
       "            <img src=\"http://ia.media-imdb.com/images/M/MV5BMTIwNDc5MzAxNV5BMl5BanBnXkFtZTYwOTE2NDE5._V1_SX300.jpg\" alt=\"Free Willy \" height=\"75px\" width=\"auto\">\n",
       "        </div>\n",
       "    \n",
       "        <div style=\"float:left; height:100px; width:100px; overflow:hidden;\">\n",
       "            <img src=\"http://ia.media-imdb.com/images/M/MV5BNTI4ODQ1MzAzNV5BMl5BanBnXkFtZTgwMzU4NzMxMDE@._V1_SX300.jpg\" alt=\"Aladdin \" height=\"75px\" width=\"auto\">\n",
       "        </div>\n",
       "    \n",
       "        <div style=\"float:left; height:100px; width:100px; overflow:hidden;\">\n",
       "            <img src=\"http://ia.media-imdb.com/images/M/MV5BMTQwMzE2Mzc4M15BMl5BanBnXkFtZTcwMTE4NTc1Nw@@._V1_SX300.jpg\" alt=\"Snow White and the Seven Dwarfs \" height=\"75px\" width=\"auto\">\n",
       "        </div>\n",
       "    \n",
       "        <div style=\"float:left; height:100px; width:100px; overflow:hidden;\">\n",
       "            <img src=\"None\" alt=\"Aristocats, The \" height=\"75px\" width=\"auto\">\n",
       "        </div>\n",
       "    \n",
       "        <div style=\"float:left; height:100px; width:100px; overflow:hidden;\">\n",
       "            <img src=\"http://ia.media-imdb.com/images/M/MV5BMTI2MjYyODUzNV5BMl5BanBnXkFtZTcwMTczNzUxMQ@@._V1_SX300.jpg\" alt=\"All Dogs Go to Heaven 2 \" height=\"75px\" width=\"auto\">\n",
       "        </div>\n",
       "    \n",
       "        <div style=\"float:left; height:100px; width:100px; overflow:hidden;\">\n",
       "            <img src=\"http://ia.media-imdb.com/images/M/MV5BMTU4MTMzOTg4Nl5BMl5BanBnXkFtZTcwMDEzNDQyMQ@@._V1_SX300.jpg\" alt=\"Flipper \" height=\"75px\" width=\"auto\">\n",
       "        </div>\n",
       "    \n",
       "        <div style=\"float:left; height:100px; width:100px; overflow:hidden;\">\n",
       "            <img src=\"None\" alt=\"Wizard of Oz, The \" height=\"75px\" width=\"auto\">\n",
       "        </div>\n",
       "    <div style=\"clear:both;height:10px;\">&nbsp;</div><h1>CLUSTER ID = Drama War Action</h1>\n",
       "        <div style=\"float:left; height:100px; width:100px; overflow:hidden;\">\n",
       "            <img src=\"http://ia.media-imdb.com/images/M/MV5BMTgyMzAwOTQyNF5BMl5BanBnXkFtZTcwNDU1MjgxMQ@@._V1_SX300.jpg\" alt=\"Shanghai Triad \" height=\"75px\" width=\"auto\">\n",
       "        </div>\n",
       "    \n",
       "        <div style=\"float:left; height:100px; width:100px; overflow:hidden;\">\n",
       "            <img src=\"http://ia.media-imdb.com/images/M/MV5BMjI4MDIxNjk2Ml5BMl5BanBnXkFtZTcwMTA3Njk3OA@@._V1_SX300.jpg\" alt=\"Twelve Monkeys \" height=\"75px\" width=\"auto\">\n",
       "        </div>\n",
       "    \n",
       "        <div style=\"float:left; height:100px; width:100px; overflow:hidden;\">\n",
       "            <img src=\"http://ia.media-imdb.com/images/M/MV5BMTM3NzA1MjM2N15BMl5BanBnXkFtZTcwMzY3MTMzNA@@._V1_SX300.jpg\" alt=\"Dead Man Walking \" height=\"75px\" width=\"auto\">\n",
       "        </div>\n",
       "    \n",
       "        <div style=\"float:left; height:100px; width:100px; overflow:hidden;\">\n",
       "            <img src=\"http://ia.media-imdb.com/images/M/MV5BMTI3MzMwMzIxMF5BMl5BanBnXkFtZTYwNTM0Nzc5._V1_SX300.jpg\" alt=\"Richard III \" height=\"75px\" width=\"auto\">\n",
       "        </div>\n",
       "    \n",
       "        <div style=\"float:left; height:100px; width:100px; overflow:hidden;\">\n",
       "            <img src=\"http://ia.media-imdb.com/images/M/MV5BMTUxODUxOTk2M15BMl5BanBnXkFtZTcwODk2NDYxMQ@@._V1_SX300.jpg\" alt=\"Mr. Holland's Opus \" height=\"75px\" width=\"auto\">\n",
       "        </div>\n",
       "    \n",
       "        <div style=\"float:left; height:100px; width:100px; overflow:hidden;\">\n",
       "            <img src=\"None\" alt=\"White Balloon, The \" height=\"75px\" width=\"auto\">\n",
       "        </div>\n",
       "    \n",
       "        <div style=\"float:left; height:100px; width:100px; overflow:hidden;\">\n",
       "            <img src=\"http://ia.media-imdb.com/images/M/MV5BMTgwNjkwOTQ5NV5BMl5BanBnXkFtZTcwNjc3ODAyMQ@@._V1_SX300.jpg\" alt=\"Antonia's Line \" height=\"75px\" width=\"auto\">\n",
       "        </div>\n",
       "    \n",
       "        <div style=\"float:left; height:100px; width:100px; overflow:hidden;\">\n",
       "            <img src=\"http://ia.media-imdb.com/images/M/MV5BNjA4ODYxMDU3Nl5BMl5BanBnXkFtZTcwMzkzMTk3OA@@._V1_SX300.jpg\" alt=\"Braveheart \" height=\"75px\" width=\"auto\">\n",
       "        </div>\n",
       "    \n",
       "        <div style=\"float:left; height:100px; width:100px; overflow:hidden;\">\n",
       "            <img src=\"http://ia.media-imdb.com/images/M/MV5BMTMyMjUyNDY5MV5BMl5BanBnXkFtZTcwMzMxNDkxMQ@@._V1_SX300.jpg\" alt=\"Belle de jour \" height=\"75px\" width=\"auto\">\n",
       "        </div>\n",
       "    \n",
       "        <div style=\"float:left; height:100px; width:100px; overflow:hidden;\">\n",
       "            <img src=\"http://ia.media-imdb.com/images/M/MV5BMTk2NTE5MDI4MV5BMl5BanBnXkFtZTcwODM4MDMzMQ@@._V1_SX300.jpg\" alt=\"Nadja \" height=\"75px\" width=\"auto\">\n",
       "        </div>\n",
       "    </body></html>"
      ],
      "text/plain": [
       "<IPython.core.display.HTML object>"
      ]
     },
     "metadata": {},
     "output_type": "display_data"
    }
   ],
   "source": [
    "import requests\n",
    "from IPython.display import display, HTML \n",
    "\n",
    "def poster(title):\n",
    "    res = requests.get(\"http://www.imdbapi.com/?i=&t=\" + title)\n",
    "    poster_url = res.json().get('Poster', None)\n",
    "    return \"\"\"\n",
    "        <div style=\"float:left; height:100px; width:100px; overflow:hidden;\">\n",
    "            <img src=\"{0}\" alt=\"{1}\" height=\"75px\" width=\"auto\">\n",
    "        </div>\n",
    "    \"\"\".format(poster_url, title)\n",
    "    \n",
    "outStr = \"<html><head></head><body style='background-color:black; color:white;'>\"\n",
    "for cluster in labeledData.groupByKey().collect():\n",
    "    name = \" \".join([x[1] for x in clusterNames[cluster[0]]])\n",
    "    outStr += '<div style=\"clear:both;height:10px;\">&nbsp;</div><h1>CLUSTER ID = {0}</h1>'.format(name)\n",
    "    for movie in list(cluster[1])[0:10]:\n",
    "        title = movie.title.split('(')[0]\n",
    "        outStr += poster(title) \n",
    "\n",
    "outStr += \"</body></html>\"\n",
    "display(HTML(outStr))\n",
    "    "
   ]
  },
  {
   "cell_type": "markdown",
   "metadata": {},
   "source": [
    "\n",
    "\n",
    "### Issues / Future Work\n",
    "1. We use 10 clusters but didn't realy validated that its the optimal number of clusters. Try running the KMeans algorithm with different number of clusters and find optimal number of clusters by looking at With group sum of squared distances\n",
    "2. The computation to identify top 3 genres in each cluster is currently happening on a driver side. Can we do it in a distributed fashion. Essentially we need to find complement of [Top](http://pig.apache.org/docs/r0.11.1/func.html#topx) function in Pig. \n",
    "3. Rewrite the logic so that its easy to add/remove features\n"
   ]
  },
  {
   "cell_type": "markdown",
   "metadata": {},
   "source": [
    "# Personalized Recommendation System -- Experimental (Not Yet Complete)"
   ]
  },
  {
   "cell_type": "code",
   "execution_count": 135,
   "metadata": {
    "collapsed": false
   },
   "outputs": [
    {
     "name": "stdout",
     "output_type": "stream",
     "text": [
      "Number of Records Per Label:  defaultdict(<type 'int'>, {1.0: 6110, 2.0: 11370, 3.0: 27145, 4.0: 34174, 5.0: 21201})\n",
      "Percentage of Records For Balanced Dataset:  {1.0: 1.0, 2.0: 0.5373790677220757, 3.0: 0.22508749309265058, 4.0: 0.1787908936618482, 5.0: 0.28819395311541907}\n"
     ]
    }
   ],
   "source": [
    "# Select Equal Number of Samples for each rating\n",
    "counts = dataset.map(lambda x: (x.label, None)).countByKey()\n",
    "size = float(min(counts.values()))\n",
    "broadcastSamplePercentage = sc.broadcast(dict([(k, size/v) for k, v in counts.items()]))\n",
    "\n",
    "print \"Number of Records Per Label: \", counts\n",
    "print \"Percentage of Records For Balanced Dataset: \", broadcastSamplePercentage.value"
   ]
  },
  {
   "cell_type": "code",
   "execution_count": 149,
   "metadata": {
    "collapsed": false
   },
   "outputs": [],
   "source": [
    "def parseRatingData(record, type=\"simple\"):\n",
    "    \"\"\"\n",
    "        Parse Rating data\n",
    "    \"\"\"\n",
    "    tokens = record.split(\"\\t\")\n",
    "    user = int(tokens[0])\n",
    "    movie = int(tokens[1])\n",
    "    rating = int(tokens[2])\n",
    "    if type == \"logistic\":\n",
    "        rating = 0 if int(tokens[2]) <= 3 else 1\n",
    "    return tuple([user, movie, rating])\n",
    "\n",
    "def parseUserData(record):\n",
    "    \"\"\"\n",
    "        Parse user data\n",
    "    \"\"\"\n",
    "    tokens = record.split('|')\n",
    "    user = int(tokens[0])\n",
    "    age = int(tokens[1])\n",
    "    male = 1 if tokens[2].strip() == 'M' else 0\n",
    "    female = 1 if tokens[2].strip() == 'F' else 0\n",
    "    \n",
    "    return tuple([user, age, male, female])\n",
    "\n",
    "\n",
    "\n"
   ]
  },
  {
   "cell_type": "code",
   "execution_count": null,
   "metadata": {
    "collapsed": true
   },
   "outputs": [],
   "source": [
    "rating = sc.textFile(\"data/meetup/movielens/u.data\").map(parseRatingData)\n",
    "user = sc.textFile(\"data/meetup/movielens/u.user\").map(parseUserData)\n",
    "item = sc.textFile(\"data/meetup/movielens/u.item\").map(parseMovieData)\n",
    "\n",
    "print rating.take(3)\n",
    "print user.take(3)\n",
    "print item.take(3)"
   ]
  },
  {
   "cell_type": "markdown",
   "metadata": {},
   "source": [
    "##Create Training Dataset"
   ]
  },
  {
   "cell_type": "code",
   "execution_count": 134,
   "metadata": {
    "collapsed": false
   },
   "outputs": [
    {
     "name": "stdout",
     "output_type": "stream",
     "text": [
      "[LabeledPoint(3.0, [27.0,0.0,1.0,0.0,1.0,0.0,1.0,0.0,1.0,0.0,1.0,0.0,1.0,0.0,1.0,0.0,1.0,0.0,1.0,0.0,1.0,0.0,1.0,0.0,1.0,0.0,1.0,0.0,1.0,0.0,1.0,0.0,1.0,0.0,1.0,0.0,1.0,0.0,1.0])]\n"
     ]
    }
   ],
   "source": [
    "from pyspark.mllib.regression import LabeledPoint\n",
    "\n",
    "\n",
    "def getLabeledPoint(rating, user, movie = None):\n",
    "    label = rating[2]\n",
    "    features = user[1:] \n",
    "    if movie:\n",
    "        features += movie[1:]\n",
    "        \n",
    "    return LabeledPoint(label, features)        \n",
    "        \n",
    "dataset = (rating\n",
    "                .map(lambda x: (x[0], x))\n",
    "                .join(user.map(lambda x: (x[0], x)))\n",
    "                .map(lambda x: (x[1][0][1], x[1]))\n",
    "                .join(item.map(lambda x: (x[0], x)))\n",
    "                .map(lambda x: getLabeledPoint(x[1][0][0], x[1][0][1], x[1][1]))\n",
    "#                 .map(lambda x: getLabeledPoint(x[1][0][0], x[1][0][1]))\n",
    "          )\n",
    "print dataset.take(1)"
   ]
  },
  {
   "cell_type": "markdown",
   "metadata": {},
   "source": [
    "##Split into training and testing dataset"
   ]
  },
  {
   "cell_type": "code",
   "execution_count": 144,
   "metadata": {
    "collapsed": false
   },
   "outputs": [
    {
     "name": "stdout",
     "output_type": "stream",
     "text": [
      "defaultdict(<type 'int'>, {(1.0, 0): 10965, (0.0, 0): 8964})\n",
      "[-1.16431339272,-0.0961499464779,-0.0242242142667,0.0,-0.120374160745,0.0,-0.120374160745,0.0,-0.120374160745,0.0,-0.120374160745,0.0,-0.120374160745,0.0,-0.120374160745,0.0,-0.120374160745,0.0,-0.120374160745,0.0,-0.120374160745,0.0,-0.120374160745,0.0,-0.120374160745,0.0,-0.120374160745,0.0,-0.120374160745,0.0,-0.120374160745,0.0,-0.120374160745,0.0,-0.120374160745,0.0,-0.120374160745,0.0,-0.120374160745]\n"
     ]
    }
   ],
   "source": [
    "def predict(record):\n",
    "    predicted = model.predict(record.features)\n",
    "    return predicted\n",
    "\n",
    "predicted = testDataset.map(lambda x: ((x.label, predict(x)), None))\n",
    "print predicted.countByKey()\n",
    "print model.weights"
   ]
  },
  {
   "cell_type": "code",
   "execution_count": 136,
   "metadata": {
    "collapsed": false
   },
   "outputs": [
    {
     "name": "stdout",
     "output_type": "stream",
     "text": [
      "Balanced Labeled Dataset:  defaultdict(<type 'int'>, {1.0: 6110, 2.0: 6112, 3.0: 6023, 4.0: 6193, 5.0: 6285})\n",
      "Total Number of Records:  30447\n"
     ]
    }
   ],
   "source": [
    "# Randomly select records based on given sample percentage\n",
    "import random\n",
    "random.seed(100)\n",
    "\n",
    "def balancer(record, percentage):\n",
    "    \"\"\"\n",
    "        Randomly samples records within the same label\n",
    "        \n",
    "        @param: record - LabelledPoint\n",
    "        @param: percnetage - Dictionary where key is same as the label and value indicates percentage of sample to be retained\n",
    "        \n",
    "    \"\"\"\n",
    "    if percentage == None:\n",
    "        raise Exception(\"Percentage cannot be null\")\n",
    "    label = record.label\n",
    "    return (random.random() <= percentage.get(record.label, -1))\n",
    "\n",
    "balancedDataset = dataset.filter(lambda x: balancer(x, broadcastSamplePercentage.value))\n",
    "print \"Balanced Labeled Dataset: \", balancedDataset.map(lambda x: (x.label, None)).countByKey()\n",
    "print \"Total Number of Records: \", balancedDataset.count()"
   ]
  },
  {
   "cell_type": "code",
   "execution_count": 137,
   "metadata": {
    "collapsed": false
   },
   "outputs": [
    {
     "name": "stdout",
     "output_type": "stream",
     "text": [
      "Number of Training Records:  27530\n",
      "Number of Testing Records:  3042\n"
     ]
    }
   ],
   "source": [
    "# Now split the dataset into training and testing\n",
    "trainDataset, testDataset = balancedDataset.randomSplit([0.9, 0.1], 100)\n",
    "print \"Number of Training Records: \", trainDataset.count()\n",
    "print \"Number of Testing Records: \", testDataset.count()\n"
   ]
  },
  {
   "cell_type": "markdown",
   "metadata": {},
   "source": [
    "## Train Linear Regression Model"
   ]
  },
  {
   "cell_type": "code",
   "execution_count": 138,
   "metadata": {
    "collapsed": false
   },
   "outputs": [
    {
     "name": "stdout",
     "output_type": "stream",
     "text": [
      "[-4.42203673316e+227,-9.00843448045e+225,-3.13512595855e+225,0.0,-1.2143560439e+226,0.0,-1.2143560439e+226,0.0,-1.2143560439e+226,0.0,-1.2143560439e+226,0.0,-1.2143560439e+226,0.0,-1.2143560439e+226,0.0,-1.2143560439e+226,0.0,-1.2143560439e+226,0.0,-1.2143560439e+226,0.0,-1.2143560439e+226,0.0,-1.2143560439e+226,0.0,-1.2143560439e+226,0.0,-1.2143560439e+226,0.0,-1.2143560439e+226,0.0,-1.2143560439e+226,0.0,-1.2143560439e+226,0.0,-1.2143560439e+226,0.0,-1.2143560439e+226] 0.0\n"
     ]
    }
   ],
   "source": [
    "from pyspark.mllib.regression import LinearRegressionWithSGD\n",
    "\n",
    "model = LinearRegressionWithSGD.train(trainDataset, \n",
    "                                           iterations=100, \n",
    "                                           miniBatchFraction = 1.0, \n",
    "                                           regParam = 1e-2,\n",
    "                                           regType = 'l2',\n",
    "                                           intercept = False)\n",
    "\n",
    "# weightsLR1 stores the model weights; interceptLR1 stores the model intercept\n",
    "weights = model.weights\n",
    "intercept = model.intercept\n",
    "print weights, intercept\n"
   ]
  },
  {
   "cell_type": "markdown",
   "metadata": {},
   "source": [
    "## Evaluate Model"
   ]
  },
  {
   "cell_type": "code",
   "execution_count": 139,
   "metadata": {
    "collapsed": false
   },
   "outputs": [
    {
     "name": "stdout",
     "output_type": "stream",
     "text": [
      "defaultdict(<type 'int'>, {(3.0, 0): 612, (2.0, 0): 632, (1.0, 0): 605, (5.0, 0): 579, (4.0, 0): 617})\n"
     ]
    }
   ],
   "source": [
    "def predict(record):\n",
    "    predicted = model.predict(record.features)\n",
    "    if(predicted < 0): return 0\n",
    "    return round(predicted, 0)\n",
    "\n",
    "predicted = testDataset.map(lambda x: ((x.label, predict(x)), None))\n",
    "cnts = predicted.countByKey()\n",
    "print cnts"
   ]
  },
  {
   "cell_type": "markdown",
   "metadata": {},
   "source": [
    "#Logistic Regression"
   ]
  },
  {
   "cell_type": "code",
   "execution_count": 145,
   "metadata": {
    "collapsed": false
   },
   "outputs": [
    {
     "name": "stdout",
     "output_type": "stream",
     "text": [
      "defaultdict(<type 'int'>, {0.0: 35661, 1.0: 44410})\n",
      "defaultdict(<type 'int'>, {0.0: 8964, 1.0: 10965})\n"
     ]
    }
   ],
   "source": [
    "from pyspark.mllib.classification import LogisticRegressionWithSGD\n",
    "rating = sc.textFile(\"data/meetup/movielens/u.data\").map(lambda x: parseRatingData(x, type=\"logistic\"))\n",
    "dataset = (rating\n",
    "                .map(lambda x: (x[0], x))\n",
    "                .join(user.map(lambda x: (x[0], x)))\n",
    "                .map(lambda x: (x[1][0][1], x[1]))\n",
    "                .join(item.map(lambda x: (x[0], x)))\n",
    "                .map(lambda x: getLabeledPoint(x[1][0][0], x[1][0][1], x[1][1]))\n",
    "#                 .map(lambda x: getLabeledPoint(x[1][0][0], x[1][0][1]))\n",
    "          )\n",
    "trainDataset, testDataset = dataset.randomSplit([0.8, 0.2], 100)\n",
    "# model = LogisticRegressionWithSGD.train(trainDataset)\n",
    "print trainDataset.map(lambda x: (x.label, None)).countByKey()\n",
    "print testDataset.map(lambda x: (x.label, None)).countByKey()"
   ]
  },
  {
   "cell_type": "code",
   "execution_count": null,
   "metadata": {
    "collapsed": true
   },
   "outputs": [],
   "source": []
  }
 ],
 "metadata": {
  "kernelspec": {
   "display_name": "Python 2",
   "language": "python",
   "name": "python2"
  },
  "language_info": {
   "codemirror_mode": {
    "name": "ipython",
    "version": 2
   },
   "file_extension": ".py",
   "mimetype": "text/x-python",
   "name": "python",
   "nbconvert_exporter": "python",
   "pygments_lexer": "ipython2",
   "version": "2.7.6"
  }
 },
 "nbformat": 4,
 "nbformat_minor": 0
}
