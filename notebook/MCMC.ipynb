{
 "metadata": {
  "name": "",
  "signature": "sha256:9d1b8cfb5673d34e1af6d66a56531b5f0920d28f93f42b0e624a663ec7c6a7a5"
 },
 "nbformat": 3,
 "nbformat_minor": 0,
 "worksheets": [
  {
   "cells": [
    {
     "cell_type": "markdown",
     "metadata": {},
     "source": [
      "**Scneario**: We toss a coin and get 8 heads and 2 tails. Our objective is to determine probability of getting head in the \n",
      "    next toss. Use bayesian approach to estimate parameter i.e. probability of getting head ( $\\theta$ )\n",
      "  "
     ]
    },
    {
     "cell_type": "markdown",
     "metadata": {},
     "source": [
      "**Theoretical Approach**: Assuming $\\theta$ has a beta distribution with $\\alpha = \\beta = 2.0$, expected value for $\\theta$ is given as\n",
      "\n",
      "$E[\\theta] = \\frac{n_H + \\alpha}{\\alpha + \\beta + N}$\n",
      "\n",
      "$E[\\theta] = \\frac{8 + 2}{2 + 2 + 10} = \\frac{10}{14} = 0.71$\n",
      "\n",
      "\n",
      "\n",
      "\n"
     ]
    },
    {
     "cell_type": "markdown",
     "metadata": {},
     "source": [
      "**Sampling Approach**: Below I use MCMC approach to estimate $\\theta$. "
     ]
    },
    {
     "cell_type": "markdown",
     "metadata": {},
     "source": [
      "Step 1: First step is to use Metropolis-Hastings algorithm to get sample points from prior distribution \n",
      "    based on proposal distribution. Below prior distribution is assumed to follow Beta(2,2) distribution. Proposal\n",
      "    distribution is assumed to be a guassian distribution with mean equal to given sample and standar deviation = 0.5. "
     ]
    },
    {
     "cell_type": "code",
     "collapsed": false,
     "input": [
      "%matplotlib inline\n",
      "import random\n",
      "import scipy.stats\n",
      "import scipy.special \n",
      "import matplotlib.pyplot as plt\n",
      "\n",
      "def likelihood(x):\n",
      "    if x < 0 or x > 1: return 0\n",
      "    return x**8*(1-x)**2\n",
      "\n",
      "def prior(x):\n",
      "    \"\"\"= desired_density\n",
      "    Assuming prior follows Beta distribution i.e. p(\\theta) === Beta(2,2)\n",
      "    \"\"\"\n",
      "    return scipy.stats.beta.pdf(x, 2, 2)\n",
      "\n",
      "def posterior(x):\n",
      "    return likelihood(x) * prior(x)\n",
      "    \n",
      "\n",
      "n = 10000  # Sample n points\n",
      "samples = [random.random()] # Store samples\n",
      "for i in range(n):\n",
      "    #Grab new sample and its probability\n",
      "    theta = samples[-1]\n",
      "    newTheta = theta + random.normalvariate(0, 0.1)\n",
      "    \n",
      "    if newTheta < 0 or newTheta > 1: \n",
      "        newTheta = theta\n",
      "        \n",
      "    if random.random() < posterior(newTheta)/posterior(theta):\n",
      "        samples.append(newTheta)\n",
      "    else:\n",
      "        samples.append(theta)\n",
      "    \n",
      "print \"Estimate: \", sum(samples)/n\n",
      "\n",
      "# Plot the results\n",
      "ylab = [i for i in xrange(len(samples))]\n",
      "pylab.plot(samples, ylab)\n",
      "pylab.title('Random Walk Visualization')\n",
      "pylab.xlabel('Theta Value')\n",
      "pylab.ylabel('Time')\n",
      "pylab.show() "
     ],
     "language": "python",
     "metadata": {},
     "outputs": [
      {
       "output_type": "stream",
       "stream": "stdout",
       "text": [
        "Estimate:  0.71189168763\n"
       ]
      },
      {
       "metadata": {},
       "output_type": "display_data",
       "png": "[encoded data removed]",
       "text": [
        "<matplotlib.figure.Figure at 0x11139c8d0>"
       ]
      }
     ],
     "prompt_number": 34
    },
    {
     "cell_type": "markdown",
     "metadata": {},
     "source": [
      "Since $\\int_{\\theta}g(\\theta)*P(\\theta)d\\theta \\approx \\sum_{1}^nW_ig(\\theta)$, \n",
      "\n",
      "$\\therefore \\int_{\\theta}p(D\\theta_i)*P(\\theta_i)d\\theta \\approx \\sum_{1}^nW_iP(D|\\theta_i) = \\sum_{1}^n\\theta_i^8(1-\\theta_i)^2$"
     ]
    },
    {
     "cell_type": "code",
     "collapsed": false,
     "input": [
      "print sum([sp.p for sp in samples])/n"
     ],
     "language": "python",
     "metadata": {},
     "outputs": [
      {
       "output_type": "stream",
       "stream": "stdout",
       "text": [
        "0.713392446566\n"
       ]
      }
     ],
     "prompt_number": 10
    },
    {
     "cell_type": "code",
     "collapsed": false,
     "input": [
      "\n",
      "\n",
      "\n",
      "# Calculate Total Weight\n",
      "totalWeights = sum([sp.w for sp in samples])\n",
      "\n",
      "# Calculate sum of w_i * likelihood\n",
      "num = sum([likelihood(d.p) * d.w/totalWeights for d in samples])\n",
      "\n",
      "# Calculate normalizing constant by taking sum of all (likelidhood * prior)\n",
      "deno = sum([posterior(d.p) for d in samples])\n",
      "\n",
      "print \"Expected theta = \", num/deno  # doesn't make sense as the answer is way off from Analytical solution"
     ],
     "language": "python",
     "metadata": {},
     "outputs": [
      {
       "output_type": "stream",
       "stream": "stdout",
       "text": [
        "Expected theta =  0.0831104053239\n"
       ]
      }
     ],
     "prompt_number": 49
    },
    {
     "cell_type": "code",
     "collapsed": false,
     "input": [
      "import numpy as np\n",
      "import random\n",
      "import pylab\n",
      " \n",
      "# Posterior Distribution\n",
      "def posterior(theta):\n",
      "    return (theta**8)*((1-theta)**2)*scipy.stats.beta.pdf(theta, 2,2)\n",
      " \n",
      "# Random Walk Step Size\n",
      "def norm_dist():\n",
      "    return random.normalvariate(0, 0.1)\n",
      "     \n",
      "# Perform one step of random walk from spot theta\n",
      "def rand_walk(theta):\n",
      "    x = norm_dist()\n",
      "    if theta + x < 1 and theta + x >0:\n",
      "        return theta + x\n",
      "    else:\n",
      "        return theta\n",
      "  \n",
      "# Simulate the random walk for 1000 time steps   \n",
      "walk = []\n",
      "walk.append(0.5)\n",
      "for i in xrange(5000):\n",
      "    n = walk.pop()\n",
      "    walk.append(n)\n",
      "    y = rand_walk(n)\n",
      "    if random.random() < p(y)/p(n):\n",
      "        walk.append(y)\n",
      "    else:\n",
      "        walk.append(n)\n",
      "  \n",
      "\n",
      "print sum(walk)/len(walk)\n",
      "\n"
     ],
     "language": "python",
     "metadata": {},
     "outputs": [
      {
       "output_type": "stream",
       "stream": "stdout",
       "text": [
        "0.842003012506\n"
       ]
      }
     ],
     "prompt_number": 20
    },
    {
     "cell_type": "code",
     "collapsed": false,
     "input": [
      "for i in xrange(10):\n",
      "    print i"
     ],
     "language": "python",
     "metadata": {},
     "outputs": [
      {
       "output_type": "stream",
       "stream": "stdout",
       "text": [
        "0\n",
        "1\n",
        "2\n",
        "3\n",
        "4\n",
        "5\n",
        "6\n",
        "7\n",
        "8\n",
        "9\n"
       ]
      }
     ],
     "prompt_number": 17
    }
   ],
   "metadata": {}
  }
 ]
}