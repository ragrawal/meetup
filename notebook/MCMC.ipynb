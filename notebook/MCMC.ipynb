{
 "metadata": {
  "name": "",
  "signature": "sha256:2c194bc2f0105397309170a8bae2e1c3827e1c89214628f3937c776e315e78fa"
 },
 "nbformat": 3,
 "nbformat_minor": 0,
 "worksheets": [
  {
   "cells": [
    {
     "cell_type": "markdown",
     "metadata": {},
     "source": [
      "**Scneario**: We toss a coin and get 8 heads and 2 tails. Our objective is to determine probability of getting head in the \n",
      "    next toss. Use bayesian approach to estimate parameter i.e. probability of getting head ( $\\theta$ )\n",
      "  "
     ]
    },
    {
     "cell_type": "markdown",
     "metadata": {},
     "source": [
      "**Theoretical Approach**: Assuming $\\theta$ has a beta distribution with $\\alpha = \\beta = 2.0$, expected value for $\\theta$ is given as\n",
      "\n",
      "$E[\\theta] = \\frac{n_H + \\alpha}{\\alpha + \\beta + N}$\n",
      "\n",
      "$E[\\theta] = \\frac{8 + 2}{2 + 2 + 10} = \\frac{10}{14} = 0.71$\n",
      "\n",
      "\n",
      "\n",
      "\n"
     ]
    },
    {
     "cell_type": "markdown",
     "metadata": {},
     "source": [
      "**Sampling Approach**: Below I use MCMC approach to estimate $\\theta$. "
     ]
    },
    {
     "cell_type": "markdown",
     "metadata": {},
     "source": [
      "Step 1: First step is to use Metropolis-Hastings algorithm to get sample points from prior distribution \n",
      "    based on proposal distribution. Below prior distribution is assumed to follow Beta(2,2) distribution. Proposal\n",
      "    distribution is assumed to be a guassian distribution with mean equal to given sample and standar deviation = 0.5. "
     ]
    },
    {
     "cell_type": "code",
     "collapsed": false,
     "input": [
      "%matplotlib inline\n",
      "import random\n",
      "import scipy.stats\n",
      "import scipy.special \n",
      "\n",
      "class SamplePoint:\n",
      "    \"\"\"Class to hold sample and associated weight\"\"\"\n",
      "    def __init__(self,):\n",
      "        self.p = None\n",
      "        self.w = None\n",
      "\n",
      "def prior(x):\n",
      "    \"\"\"= desired_density\n",
      "    Assuming prior follows Beta distribution i.e. p(\\theta) === Beta(2,2)\n",
      "    \"\"\"\n",
      "    return scipy.stats.beta.pdf(x, 2, 2)\n",
      "\n",
      "def get_sample_using_proposal(x, sample = None):\n",
      "    mean = x\n",
      "    sigma = 0.5\n",
      "    sample = sample or random.gauss(mean, sigma)\n",
      "    prob = scipy.stats.norm(mean, sigma).pdf(sample)\n",
      "    return (sample, prob)\n",
      "\n",
      "def proposal_density(oldX, newX):\n",
      "    return get_sample_using_proposal(newX, oldX)[1]\n",
      "\n",
      "\n",
      "n = 10000  # Sample n points\n",
      "samples = [] # Store sample and associated weight\n",
      "sample = random.random()  #initialization\n",
      "\n",
      "for i in range(n):\n",
      "    #Grab new sample and its probability\n",
      "    newSample, prob = get_sample_using_proposal(sample)\n",
      "    \n",
      "    a1 = prior(newSample) / prior(sample)\n",
      "    a2 = proposal_density(sample, newSample) / prob\n",
      "    a = a1 * a2\n",
      "    \n",
      "    u = random.random()\n",
      "    if a >= 1 or u < a:\n",
      "        sample = newSample\n",
      "    \n",
      "    #Store point\n",
      "    sp = SamplePoint()\n",
      "    sp.p = sample\n",
      "    sp.w = prior(sample)/proposal_density(sample, newSample)\n",
      "    samples.append(sp)\n",
      "\n",
      "#Plot sample point and prior distribution\n",
      "hist = plt.hist([sp.p for sp in samples], 100, normed=True)    \n",
      "x = np.linspace(0, 1, 100)\n",
      "graph = plt.plot(x,  prior(x), lw=5)\n",
      "plt.show()  \n",
      "\n",
      "\n",
      "\n",
      "    \n",
      "        \n"
     ],
     "language": "python",
     "metadata": {},
     "outputs": [
      {
       "metadata": {},
       "output_type": "display_data",
       "png": "[encoded data removed]",
       "text": [
        "<matplotlib.figure.Figure at 0x10fb1bc50>"
       ]
      }
     ],
     "prompt_number": 46
    },
    {
     "cell_type": "markdown",
     "metadata": {},
     "source": [
      "Since $\\int_{\\theta}g(\\theta)*P(\\theta)d\\theta \\approx \\sum_{1}^nW_ig(\\theta)$, \n",
      "\n",
      "$\\therefore \\int_{\\theta}p(D\\theta_i)*P(\\theta_i)d\\theta \\approx \\sum_{1}^nW_iP(D|\\theta_i) = \\sum_{1}^n\\theta_i^8(1-\\theta_i)^2$"
     ]
    },
    {
     "cell_type": "code",
     "collapsed": false,
     "input": [
      "\n",
      "def posterior(x):\n",
      "    return likelihood(x) * prior(x)\n",
      "        \n",
      "def likelihood(x):\n",
      "    if x < 0 or x > 1: return 0\n",
      "    return x**8*(1-x)**2\n",
      "\n",
      "# Calculate Total Weight\n",
      "totalWeights = sum([sp.w for sp in samples])\n",
      "\n",
      "# Calculate sum of w_i * likelihood\n",
      "num = sum([likelihood(d.p) * d.w/totalWeights for d in samples])\n",
      "\n",
      "# Calculate normalizing constant by taking sum of all (likelidhood * prior)\n",
      "deno = sum([posterior(d.p) for d in samples])\n",
      "\n",
      "print \"Expected theta = \", num/deno  # doesn't make sense as the answer is way off from Analytical solution"
     ],
     "language": "python",
     "metadata": {},
     "outputs": [
      {
       "output_type": "stream",
       "stream": "stdout",
       "text": [
        "Expected theta =  0.0831104053239\n"
       ]
      }
     ],
     "prompt_number": 49
    }
   ],
   "metadata": {}
  }
 ]
}