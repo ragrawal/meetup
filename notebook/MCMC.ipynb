{
 "metadata": {
  "name": "",
  "signature": "sha256:ba59f7ab69bbecea2f5e21a8e5e7168936c30d63b344d80d46379ada525969a9"
 },
 "nbformat": 3,
 "nbformat_minor": 0,
 "worksheets": [
  {
   "cells": [
    {
     "cell_type": "markdown",
     "metadata": {},
     "source": [
      "**Scneario**: We toss a coin and get 8 heads and 2 tails. Our objective is to determine probability of getting head in the \n",
      "    next toss. Use bayesian approach to estimate parameter i.e. probability of getting head ( $\\theta$ )\n",
      "  "
     ]
    },
    {
     "cell_type": "heading",
     "level": 2,
     "metadata": {},
     "source": [
      "Theoretical Approach:"
     ]
    },
    {
     "cell_type": "markdown",
     "metadata": {},
     "source": [
      "Assuming $\\theta$ has a beta distribution with $\\alpha = \\beta = 2.0$, expected value for $\\theta$ is given as\n",
      "\n",
      "$E[\\theta] = \\frac{n_H + \\alpha}{\\alpha + \\beta + N}$\n",
      "\n",
      "$E[\\theta] = \\frac{8 + 2}{2 + 2 + 10} = \\frac{10}{14} = 0.71$\n",
      "\n",
      "\n",
      "\n",
      "\n"
     ]
    },
    {
     "cell_type": "heading",
     "level": 2,
     "metadata": {},
     "source": [
      "Using Metropolis Algorithm"
     ]
    },
    {
     "cell_type": "code",
     "collapsed": false,
     "input": [
      "%matplotlib inline\n",
      "import random\n",
      "import scipy.stats\n",
      "import scipy.special \n",
      "import matplotlib.pyplot as plt\n",
      " \n",
      "def integral(theta):\n",
      "    \"\"\" This is likelihood X prior after removing any constant terms.\"\"\" \n",
      "    return theta**9*(1-theta)**3\n",
      " \n",
      " \n",
      "n = 100  # Number of points to sample\n",
      "samples = [random.random()] # Random starting point\n",
      " \n",
      "for i in range(n):\n",
      "    #Grab last sample point \n",
      "    theta = samples[-1]\n",
      " \n",
      "    #Create new sample by randomly selecting a point from a normal distribution \n",
      "    #of mean = 0 and sd = 0.1. if the new sample is outside of the \n",
      "    #domain then ignore it and use existing sample\n",
      "    newTheta = theta + random.normalvariate(0, 0.1)\n",
      "    if newTheta < 0 or newTheta > 1: \n",
      "        newTheta = theta\n",
      " \n",
      "    #If the probability of new sample as compared to last sample is less than uniform distribution\n",
      "    #then ignore it. \n",
      "    acceptanceRatio = integral(newTheta)/integral(theta)\n",
      "    if acceptanceRatio > random.random(): # accept only if going uphill\n",
      "        samples.append(newTheta)\n",
      "    else:\n",
      "        samples.append(theta)\n",
      " \n",
      "print \"Estimate: \", sum(samples)/n\n",
      " \n",
      "# Plot how sample theta varies with each iteration\n",
      "ylab = [i for i in xrange(len(samples))]\n",
      "pylab.plot(samples, ylab)\n",
      "pylab.title('Random Walk Visualization')\n",
      "pylab.xlabel('Theta Value')\n",
      "pylab.ylabel('Time')\n",
      "pylab.show() "
     ],
     "language": "python",
     "metadata": {},
     "outputs": [
      {
       "output_type": "stream",
       "stream": "stdout",
       "text": [
        "Estimate:  0.649221876089\n"
       ]
      },
      {
       "metadata": {},
       "output_type": "display_data",
       "png": "[encoded data removed]",
       "text": [
        "<matplotlib.figure.Figure at 0x11111b050>"
       ]
      }
     ],
     "prompt_number": 96
    }
   ],
   "metadata": {}
  }
 ]
}